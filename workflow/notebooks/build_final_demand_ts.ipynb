{
 "cells": [
  {
   "cell_type": "code",
   "execution_count": 42,
   "id": "f50bce28-0a02-49ab-b852-07c162a6f8a3",
   "metadata": {},
   "outputs": [],
   "source": [
    "import pandas as pd"
   ]
  },
  {
   "cell_type": "code",
   "execution_count": 43,
   "id": "4d638bb6-7046-450b-97ed-dd42c838a7f8",
   "metadata": {},
   "outputs": [],
   "source": [
    "cnt=snakemake.params.countries\n",
    "modelled_yr=int(snakemake.wildcards.year)"
   ]
  },
  {
   "cell_type": "code",
   "execution_count": 49,
   "id": "c025db7c-8989-4762-a76f-8ff4165df1bd",
   "metadata": {},
   "outputs": [],
   "source": [
    "base_dem=pd.read_csv(snakemake.input[2],index_col=0).loc[:,cnt]\n",
    "\n",
    "heat_cool_dem=pd.read_csv(snakemake.input[0],index_col=0,parse_dates=True).loc[:,cnt]\n",
    "ev_dem=pd.read_csv(snakemake.input[1],index_col=0,parse_dates=True).loc[:,cnt]"
   ]
  },
  {
   "cell_type": "code",
   "execution_count": 50,
   "id": "f8f90cad-22c1-4d60-92bf-6cb566cb322b",
   "metadata": {},
   "outputs": [],
   "source": [
    "base_dem.index=pd.to_datetime(base_dem.index)\n",
    "\n",
    "new_dates=pd.date_range(start=pd.Timestamp(modelled_yr,1,1),end=pd.Timestamp(modelled_yr,12,31)+pd.Timedelta(hours=23),freq=\"h\")\n",
    "noleap=(base_dem.index >= pd.Timestamp(2012,2,29,0)) & (base_dem.index <= pd.Timestamp(2012,2,29,23))\n",
    "\n",
    "if len(new_dates)==8760: base_dem=base_dem[~noleap]\n",
    "base_dem.index=new_dates"
   ]
  },
  {
   "cell_type": "code",
   "execution_count": 51,
   "id": "76e505c9-39bc-4762-a9af-bf9cf0990323",
   "metadata": {},
   "outputs": [],
   "source": [
    "dem=base_dem+heat_cool_dem+ev_dem\n",
    "dem.index.name=\"datetime\""
   ]
  },
  {
   "cell_type": "code",
   "execution_count": 53,
   "id": "7e516047-3a88-4b6e-b079-0a24e441abb4",
   "metadata": {},
   "outputs": [],
   "source": [
    "dem.to_csv(snakemake.output[0],float_format=\"%.3f\")"
   ]
  }
 ],
 "metadata": {
  "kernelspec": {
   "display_name": "Python 3 (ipykernel)",
   "language": "python",
   "name": "python3"
  },
  "language_info": {
   "codemirror_mode": {
    "name": "ipython",
    "version": 3
   },
   "file_extension": ".py",
   "mimetype": "text/x-python",
   "name": "python",
   "nbconvert_exporter": "python",
   "pygments_lexer": "ipython3",
   "version": "3.12.3"
  }
 },
 "nbformat": 4,
 "nbformat_minor": 5
}
