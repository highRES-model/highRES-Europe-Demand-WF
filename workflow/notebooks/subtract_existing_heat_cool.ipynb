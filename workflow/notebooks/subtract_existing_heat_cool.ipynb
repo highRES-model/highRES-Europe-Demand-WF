{
 "cells": [
  {
   "cell_type": "code",
   "execution_count": null,
   "id": "053a7647-bedb-48ad-a4d1-bf1720ad067d",
   "metadata": {},
   "outputs": [],
   "source": [
    "import pandas as pd\n",
    "from workalendar.registry import registry\n",
    "import statsmodels.formula.api as smf\n",
    "import numpy as np"
   ]
  },
  {
   "cell_type": "code",
   "execution_count": null,
   "id": "38f5dc4f-2091-42a8-a628-a41736347205",
   "metadata": {},
   "outputs": [],
   "source": [
    "countries=snakemake.params.countries\n",
    "time_zones=pd.read_csv(snakemake.input.time_zones)\n",
    "\n",
    "dem=pd.read_csv(snakemake.input.base_dem,index_col=0)\n",
    "dem.index=pd.to_datetime(dem.index)\n",
    "    \n",
    "assert pd.isnull(dem).any(axis=\"rows\").any() == False\n",
    "\n",
    "year=2012"
   ]
  },
  {
   "cell_type": "code",
   "execution_count": null,
   "id": "842f18be-98c5-44cc-98d2-444d5700d202",
   "metadata": {},
   "outputs": [],
   "source": [
    "def euro_calendars(countries):\n",
    "    \n",
    "    cal_replace={\"AL\":\"RS\",\"BA\":\"RS\",\"XK\":\"RS\",\"LI\":\"CH\",\"MK\":\"GR\",\"ME\":\"GR\"}\n",
    "    \n",
    "    cals={}\n",
    "    for c in countries:\n",
    "        \n",
    "        cal=registry.get_calendars([c])\n",
    "        \n",
    "        if not bool(cal):\n",
    "            c2=cal_replace[c]\n",
    "            cals[c]=registry.get_calendars([c2])[c2]\n",
    "        else:\n",
    "            cals[c]=cal[c]\n",
    "            \n",
    "    return cals"
   ]
  },
  {
   "cell_type": "code",
   "execution_count": null,
   "id": "479fc921-d635-4ad3-aac2-cfbf06f3aad4",
   "metadata": {},
   "outputs": [],
   "source": [
    "cals=euro_calendars(countries)"
   ]
  },
  {
   "cell_type": "code",
   "execution_count": null,
   "id": "26e084c6-46ad-4d72-92a4-74d1e2c4d95c",
   "metadata": {},
   "outputs": [],
   "source": [
    "def dem_model(yr,cnt,d,tz,calendar):\n",
    "    \n",
    "    t=pd.read_csv(snakemake.input.degree_days,parse_dates=True).loc[:,[\"UTC\",cnt,cnt+\"_cdh\",cnt+\"_hdh\"]]\n",
    "    \n",
    "    t[\"UTC\"]=pd.to_datetime(t[\"UTC\"],format=\"%Y-%m-%d %H:%M:%S\")\n",
    "    t.set_index(\"UTC\",inplace=True)\n",
    "    t.rename({cnt+\"_cdh\":\"CDH\",cnt+\"_hdh\":\"HDH\"},axis=1,inplace=True)\n",
    "    \n",
    "    d=d.merge(t,left_index=True,right_index=True,suffixes=(\"\",\"_t2m\"))\n",
    "\n",
    "    d[\"month\"]=d.index.to_series().dt.month\n",
    "    d[\"dayofweek\"]=d.index.to_series().dt.dayofweek\n",
    "    d[\"hour\"]=d.index.to_series().dt.hour\n",
    "\n",
    "    d[\"holiday\"]=0\n",
    "    \n",
    "    holidays = [a for (a,b) in calendar().holidays(yr)]\n",
    "\n",
    "    d.loc[d.index.to_series().dt.date.isin(holidays),\"holiday\"]=1\n",
    "    \n",
    "    coeffs=[]\n",
    "    for h in d[\"hour\"].drop_duplicates():\n",
    "        df=d.loc[d[\"hour\"]==h,:]\n",
    "        res = smf.ols(formula=cnt+' ~ HDH + CDH + C(month) + C(dayofweek) + C(holiday)', data=df).fit()\n",
    "         \n",
    "        coeffs.append([h,np.where(res.pvalues[\"HDH\"]<0.01,res.params[\"HDH\"],0), \\\n",
    "                           np.where(res.pvalues[\"CDH\"]<0.01,res.params[\"CDH\"],0),res.rsquared])\n",
    "\n",
    "        \n",
    "    coeffs=pd.DataFrame(coeffs,columns=[\"hour\",\"HDH_slope\",\"CDH_slope\",\"rsquared\"])\n",
    "\n",
    "    #res = smf.ols(formula=cnt+' ~ HDH + CDH + C(month) + C(dayofweek) + C(hour) + C(holiday)', data=d).fit()\n",
    "    #print(res.summary())\n",
    "\n",
    "    d[\"heat\"]=np.where(coeffs[\"HDH_slope\"].mean() > 0.,coeffs[\"HDH_slope\"].mean()*d[\"HDH\"],0)\n",
    "    d[\"cool\"]=np.where(coeffs[\"CDH_slope\"].mean() > 0.,coeffs[\"CDH_slope\"].mean()*d[\"CDH\"],0)\n",
    "\n",
    "    #print(d[\"cool\"].sum()/1E6)\n",
    "    #print(d[\"heat\"].sum()/1E6)\n",
    "\n",
    "    d.loc[:,cnt]=d.loc[:,cnt]-d[\"heat\"]-d[\"cool\"]\n",
    "    \n",
    "    return d.loc[:,cnt].round(1),[coeffs[\"rsquared\"].mean(), \\\n",
    "                         d[\"heat\"].sum()/1E6,d[\"cool\"].sum()/1E6]"
   ]
  },
  {
   "cell_type": "code",
   "execution_count": null,
   "id": "bc376138-2412-4061-b580-c30bcf258fc5",
   "metadata": {},
   "outputs": [],
   "source": [
    "fits=[]\n",
    "for cnt in countries:\n",
    "\n",
    "    tz=time_zones.loc[time_zones[\"ISO2\"]==cnt,\"UTC\"] \n",
    "    cal=cals[cnt]\n",
    "        \n",
    "    print(cnt)\n",
    "    \n",
    "    new_dem,stats=dem_model(year,cnt,dem,tz,cal)\n",
    "    rsquared,tot_cool,tot_heat=stats\n",
    "        \n",
    "    #rsquared,phdh,pcdh=stats\n",
    "        \n",
    "    dem.loc[:,cnt]=new_dem\n",
    "    fits.append([cnt,rsquared,tot_cool,tot_heat])\n",
    "    #fits.append([cnt,rsquared,phdh,pcdh])\n",
    "    \n",
    "pd.DataFrame(fits,columns=[\"Country\",\"rsquared\",\"tot_heat\",\"tot_cool\"]).to_csv(snakemake.output.fit_stats,index=False)    \n",
    "    \n",
    "dem.to_csv(snakemake.output[0])"
   ]
  }
 ],
 "metadata": {
  "kernelspec": {
   "display_name": "Python 3 (ipykernel)",
   "language": "python",
   "name": "python3"
  },
  "language_info": {
   "codemirror_mode": {
    "name": "ipython",
    "version": 3
   },
   "file_extension": ".py",
   "mimetype": "text/x-python",
   "name": "python",
   "nbconvert_exporter": "python",
   "pygments_lexer": "ipython3",
   "version": "3.12.3"
  }
 },
 "nbformat": 4,
 "nbformat_minor": 5
}
