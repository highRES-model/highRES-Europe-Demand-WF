{
 "cells": [
  {
   "cell_type": "code",
   "execution_count": null,
   "id": "a2b1715d-ee1e-413b-abf4-b8455c025d24",
   "metadata": {},
   "outputs": [],
   "source": [
    "import pandas as pd\n",
    "import geopandas as gpd\n",
    "import numpy as np\n",
    "import atlite\n",
    "import rioxarray\n",
    "import xarray as xr"
   ]
  },
  {
   "cell_type": "code",
   "execution_count": null,
   "id": "834883c4-b703-47e6-98c9-4713265a9f05",
   "metadata": {},
   "outputs": [],
   "source": [
    "tz=(pd.read_csv(snakemake.input.time_zones)\n",
    "        .loc[:,[\"ISO2\",\"UTC\"]])\n",
    "\n",
    "#year=snakemake.wildcards.year\n",
    "\n",
    "#degree_day_years=snakemake.params.degree_day_years\n",
    "\n",
    "weather_data=snakemake.input.weather_data_path\n",
    "pop_data=snakemake.input.pop_raster\n",
    "onshore_shape=snakemake.input.onshore_shape\n",
    "yr=snakemake.wildcards.degree_day_year"
   ]
  },
  {
   "cell_type": "code",
   "execution_count": null,
   "id": "7541ff32-f575-4f0d-bf21-2181e0f42553",
   "metadata": {},
   "outputs": [],
   "source": [
    "pop = rioxarray.open_rasterio(pop_data, masked=True)"
   ]
  },
  {
   "cell_type": "code",
   "execution_count": null,
   "id": "c4988854-cfca-45b2-af2e-b0126122a5ed",
   "metadata": {},
   "outputs": [],
   "source": [
    "europe=(gpd.read_file(onshore_shape)\n",
    "    .dissolve(by=\"CNTR_CODE\")\n",
    "    .drop(columns=\"index\")\n",
    "    .rename(index={\"UK\":\"GB\"}))"
   ]
  },
  {
   "cell_type": "code",
   "execution_count": null,
   "id": "ceae7519-db39-464c-a09b-477d2b710ae3",
   "metadata": {},
   "outputs": [],
   "source": [
    "out=[]\n",
    "\n",
    "ds = xr.open_dataset(weather_data+\"\\\\europe_\"+str(yr)+\".nc\", chunks=\"auto\")\n",
    "\n",
    "cutout = atlite.Cutout(\n",
    "path=\"tmp\",\n",
    "data=ds\n",
    ")\n",
    "for z in europe.index:\n",
    "    print(z)\n",
    "    \n",
    "    geo=europe.reset_index().query(\"CNTR_CODE == @z\")\n",
    "\n",
    "    ztz=tz.loc[tz[\"ISO2\"]==z,\"UTC\"].values[0]\n",
    "\n",
    "    cutout1=cutout.sel(\n",
    "        x=slice(geo.bounds[\"minx\"].values[0]-1,geo.bounds[\"maxx\"].values[0]+1),\n",
    "        y=slice(geo.bounds[\"miny\"].values[0]-1,geo.bounds[\"maxy\"].values[0]+1)\n",
    "        )\n",
    "\n",
    "    geo=geo.to_crs(pop.rio.crs)\n",
    "\n",
    "    layout = (\n",
    "    pop.rio.clip(\n",
    "        geo.geometry\n",
    "    ) \n",
    "    .rio.reproject( \n",
    "        cutout1.crs,\n",
    "        shape=cutout1.shape,\n",
    "        transform=cutout1.transform,\n",
    "        resampling=13,\n",
    "    )\n",
    "    .squeeze()\n",
    "    )\n",
    "\n",
    "    layout = layout / layout.sum()\n",
    "\n",
    "    t2m=cutout1.temperature(layout=layout.fillna(0.0)).squeeze().to_pandas()\n",
    "\n",
    "    # in original code we take this \"mean\" temp approach to try and capture building interia (I think).\n",
    "    # commented out because I can't remember where it came from.\n",
    "    #t2m=0.5*t2m+0.5*t2m.shift(-1)\n",
    "\n",
    "    cdh=t2m-20\n",
    "    cdh[cdh < 0.]=0.0\n",
    "    \n",
    "    hdh=pd.Series(np.where((t2m.index.hour >=7-ztz) & (t2m.index.hour <=22-ztz),15-t2m,10-t2m),index=t2m.index)\n",
    "    hdh[hdh < 0.]=0.0\n",
    "\n",
    "    df=pd.concat((t2m.rename(z),cdh.rename(z+\"_cdh\"),hdh.rename(z+\"_hdh\")),axis=1)\n",
    "    out.append(df)\n",
    "        \n",
    "out=pd.concat(out,axis=1).reset_index().rename({\"time\":\"UTC\"},axis=1)\n",
    "out.to_csv(snakemake.output[0],index=False,float_format='%.3f')"
   ]
  }
 ],
 "metadata": {
  "kernelspec": {
   "display_name": "Python 3 (ipykernel)",
   "language": "python",
   "name": "python3"
  },
  "language_info": {
   "codemirror_mode": {
    "name": "ipython",
    "version": 3
   },
   "file_extension": ".py",
   "mimetype": "text/x-python",
   "name": "python",
   "nbconvert_exporter": "python",
   "pygments_lexer": "ipython3",
   "version": "3.12.3"
  }
 },
 "nbformat": 4,
 "nbformat_minor": 5
}
