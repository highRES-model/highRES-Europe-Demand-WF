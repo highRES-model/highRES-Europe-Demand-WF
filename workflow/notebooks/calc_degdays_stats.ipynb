{
 "cells": [
  {
   "cell_type": "code",
   "execution_count": null,
   "id": "e79705aa-68ed-4f86-a232-9e3c68bcd652",
   "metadata": {},
   "outputs": [],
   "source": [
    "import pandas as pd\n",
    "\n",
    "cntr=snakemake.params.countries\n",
    "\n",
    "# out.set_index(\"UTC\",inplace=True)\n",
    "# out.index=pd.to_datetime(out.index)\n",
    "\n",
    "#     # should the hourly to daily conversion be a mean or a sum? I'm not sure\n",
    "    \n",
    "#     out=out.resample(\"D\").mean().loc[:,[c+\"_hdh\" for c in europe.index]]\n",
    "#     hdd_totals.append([yr]+out.sum(axis=0).tolist())\n",
    "\n",
    "# hdd_totals=pd.DataFrame(hdd_totals,columns=[\"year\"]+europe.index.tolist())\n",
    "# hdd_totals.to_csv(snakemake.output[0],index=False)"
   ]
  },
  {
   "cell_type": "code",
   "execution_count": null,
   "id": "a6f1f580-04ec-419e-8bd2-fee40d7d2301",
   "metadata": {},
   "outputs": [],
   "source": [
    "hdd_totals=[]\n",
    "\n",
    "for d,yr in zip(snakemake.input,snakemake.params.degree_day_years):\n",
    "    d=pd.read_csv(d)\n",
    "    d.set_index(\"UTC\",inplace=True)\n",
    "    d.index=pd.to_datetime(d.index)\n",
    "\n",
    "    d=d.resample(\"D\").mean().loc[:,[c+\"_hdh\" for c in cntr]]\n",
    "    hdd_totals.append([yr]+d.sum(axis=0).tolist())"
   ]
  },
  {
   "cell_type": "code",
   "execution_count": null,
   "id": "d14c3b3b-9e72-4e4d-844c-45e284114b0f",
   "metadata": {},
   "outputs": [],
   "source": [
    "hdd_totals=pd.DataFrame(hdd_totals,columns=[\"year\"]+cntr)\n",
    "hdd_totals.to_csv(snakemake.output[0],index=False)"
   ]
  }
 ],
 "metadata": {
  "kernelspec": {
   "display_name": "Python 3 (ipykernel)",
   "language": "python",
   "name": "python3"
  },
  "language_info": {
   "codemirror_mode": {
    "name": "ipython",
    "version": 3
   },
   "file_extension": ".py",
   "mimetype": "text/x-python",
   "name": "python",
   "nbconvert_exporter": "python",
   "pygments_lexer": "ipython3",
   "version": "3.12.3"
  }
 },
 "nbformat": 4,
 "nbformat_minor": 5
}
