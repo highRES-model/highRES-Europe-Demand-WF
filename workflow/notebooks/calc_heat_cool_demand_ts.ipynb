{
 "cells": [
  {
   "cell_type": "code",
   "execution_count": 143,
   "id": "7d52c797-d30d-462c-82e9-0d43f770aa4b",
   "metadata": {},
   "outputs": [],
   "source": [
    "import pandas as pd\n",
    "import numpy as np\n",
    "import datetime as dt"
   ]
  },
  {
   "cell_type": "code",
   "execution_count": 144,
   "id": "7d23369a-cfb9-4912-aef6-9f2e33709fab",
   "metadata": {},
   "outputs": [],
   "source": [
    "cnt=snakemake.params.countries\n",
    "year=snakemake.wildcards.year"
   ]
  },
  {
   "cell_type": "code",
   "execution_count": 145,
   "id": "2570f5f1-661e-42e7-8399-17e138637fc2",
   "metadata": {},
   "outputs": [],
   "source": [
    "hdd_annual=pd.read_csv(snakemake.input.hdd_annual_totals).set_index(\"year\").loc[:,cnt]\n",
    "ued_annual=pd.read_csv(snakemake.input.ued_annual,skiprows=1).set_index(\"ISO2\").loc[cnt,:]\n",
    "cooling=pd.read_csv(snakemake.input.cooling_annual).loc[:,[\"Country\",\"tot_cool\"]]\n",
    "heat_db=pd.read_excel(snakemake.input.heat_db,sheet_name=\"h&c\",engine=\"calamine\").query(\"Scenario == 'HRE'\")\n",
    "profiles=pd.read_csv(snakemake.input.heatpump_profiles,skiprows=1)\n",
    "utc=pd.read_csv(snakemake.input.time_zones).set_index('ISO2').loc[cnt,\"UTC\"]"
   ]
  },
  {
   "cell_type": "code",
   "execution_count": 146,
   "id": "33fb813b-fdc7-45b0-82eb-ebdfc011eafb",
   "metadata": {},
   "outputs": [],
   "source": [
    "def ashp_cop(deltat):\n",
    "    \n",
    "    # from Iain's paper\n",
    "    \n",
    "    return 6.81-0.121*deltat+0.000630*deltat**2"
   ]
  },
  {
   "cell_type": "code",
   "execution_count": 147,
   "id": "73ad6674-f407-496f-8d3e-5574b559790f",
   "metadata": {},
   "outputs": [],
   "source": [
    "def gshp_cop(deltat):\n",
    "    \n",
    "    # from Iain's paper\n",
    "        \n",
    "    return 8.77-0.150*deltat+0.000734*deltat**2"
   ]
  },
  {
   "cell_type": "code",
   "execution_count": 148,
   "id": "dde0561b-a545-4d07-8b84-101a0060e245",
   "metadata": {},
   "outputs": [],
   "source": [
    "select=cnt+[c+\"_cdh\" for c in cnt]+[c+\"_hdh\" for c in cnt]\n",
    "\n",
    "t2m=pd.read_csv(snakemake.input.degree_days,index_col=0).loc[:,select]\n",
    "t2m.index=pd.to_datetime(t2m.index)\n",
    "t2m=t2m.resample(\"D\").mean()"
   ]
  },
  {
   "cell_type": "code",
   "execution_count": 149,
   "id": "50d1d696-8499-44bd-a44a-beb259a9b4fc",
   "metadata": {},
   "outputs": [],
   "source": [
    "ued_annual=ued_annual.merge(cooling,left_index=True,right_on=\"Country\")"
   ]
  },
  {
   "cell_type": "code",
   "execution_count": 150,
   "id": "2e1a7c77-5422-41d2-a84d-d648cc2f1d42",
   "metadata": {},
   "outputs": [],
   "source": [
    "# only add cooling electricity demand that was previously removed - the removal process misses a chunk of space cooling\n",
    "\n",
    "ued_annual[\"res_sc\"]=(ued_annual[\"res_sc_elc\"]/(ued_annual[\"res_sc_elc\"]+ued_annual[\"ser_sc_elc\"]))*ued_annual[\"tot_cool\"]\n",
    "ued_annual[\"ser_sc\"]=(ued_annual[\"ser_sc_elc\"]/(ued_annual[\"res_sc_elc\"]+ued_annual[\"ser_sc_elc\"]))*ued_annual[\"tot_cool\"]"
   ]
  },
  {
   "cell_type": "code",
   "execution_count": 151,
   "id": "10c5a6aa-3725-4358-8e2d-a69bf187e794",
   "metadata": {},
   "outputs": [],
   "source": [
    "# annual useful space heat demand is adjusted up/down inputd on comparison to 2012\n",
    "    \n",
    "ued_annual[\"res_sh\"]=((hdd_annual.loc[hdd_annual.index==int(year),:]\n",
    "                        .values/hdd_annual.loc[hdd_annual.index==2012,:].values)\n",
    "                        .reshape(-1,)*ued_annual[\"res_sh\"])"
   ]
  },
  {
   "cell_type": "code",
   "execution_count": 152,
   "id": "db576cfe-b5cc-493d-ae22-a0b20a98be80",
   "metadata": {},
   "outputs": [
    {
     "data": {
      "text/html": [
       "<div>\n",
       "<style scoped>\n",
       "    .dataframe tbody tr th:only-of-type {\n",
       "        vertical-align: middle;\n",
       "    }\n",
       "\n",
       "    .dataframe tbody tr th {\n",
       "        vertical-align: top;\n",
       "    }\n",
       "\n",
       "    .dataframe thead th {\n",
       "        text-align: right;\n",
       "    }\n",
       "</style>\n",
       "<table border=\"1\" class=\"dataframe\">\n",
       "  <thead>\n",
       "    <tr style=\"text-align: right;\">\n",
       "      <th></th>\n",
       "      <th>Country</th>\n",
       "      <th>Country_x</th>\n",
       "      <th>res_sh</th>\n",
       "      <th>res_sc</th>\n",
       "      <th>res_hw</th>\n",
       "      <th>ser_sh</th>\n",
       "      <th>ser_sc</th>\n",
       "      <th>ser_hw</th>\n",
       "      <th>res_sh_elc</th>\n",
       "      <th>res_sc_elc</th>\n",
       "      <th>ser_sh_elc</th>\n",
       "      <th>ser_sc_elc</th>\n",
       "      <th>Country_y</th>\n",
       "      <th>tot_cool</th>\n",
       "    </tr>\n",
       "  </thead>\n",
       "  <tbody>\n",
       "    <tr>\n",
       "      <th>0</th>\n",
       "      <td>AT</td>\n",
       "      <td>Austria</td>\n",
       "      <td>41.4</td>\n",
       "      <td>0.01906</td>\n",
       "      <td>4.2</td>\n",
       "      <td>12.3</td>\n",
       "      <td>0.152478</td>\n",
       "      <td>2.0</td>\n",
       "      <td>3.3</td>\n",
       "      <td>0.1</td>\n",
       "      <td>0.3</td>\n",
       "      <td>0.8</td>\n",
       "      <td>AT</td>\n",
       "      <td>0.171537</td>\n",
       "    </tr>\n",
       "    <tr>\n",
       "      <th>5</th>\n",
       "      <td>DE</td>\n",
       "      <td>Germany</td>\n",
       "      <td>361.9</td>\n",
       "      <td>0.03748</td>\n",
       "      <td>50.4</td>\n",
       "      <td>133.8</td>\n",
       "      <td>0.262360</td>\n",
       "      <td>19.5</td>\n",
       "      <td>8.8</td>\n",
       "      <td>0.8</td>\n",
       "      <td>3.7</td>\n",
       "      <td>5.6</td>\n",
       "      <td>DE</td>\n",
       "      <td>0.299840</td>\n",
       "    </tr>\n",
       "  </tbody>\n",
       "</table>\n",
       "</div>"
      ],
      "text/plain": [
       "  Country Country_x  res_sh   res_sc  res_hw  ser_sh    ser_sc  ser_hw  \\\n",
       "0      AT   Austria    41.4  0.01906     4.2    12.3  0.152478     2.0   \n",
       "5      DE   Germany   361.9  0.03748    50.4   133.8  0.262360    19.5   \n",
       "\n",
       "   res_sh_elc  res_sc_elc  ser_sh_elc  ser_sc_elc Country_y  tot_cool  \n",
       "0         3.3         0.1         0.3         0.8        AT  0.171537  \n",
       "5         8.8         0.8         3.7         5.6        DE  0.299840  "
      ]
     },
     "execution_count": 152,
     "metadata": {},
     "output_type": "execute_result"
    }
   ],
   "source": [
    "ued_annual"
   ]
  },
  {
   "cell_type": "code",
   "execution_count": 153,
   "id": "637aeb78-9397-4d5e-92fa-2f3d4ad17309",
   "metadata": {},
   "outputs": [],
   "source": [
    "index=[\"Country\",\"res_sh\",\"res_sc\",\"res_hw\",\"ser_sh\",\"ser_sc\",\"ser_hw\"]\n",
    "ued_annual=pd.pivot_table(ued_annual.loc[:,index],columns=\"Country\")"
   ]
  },
  {
   "cell_type": "code",
   "execution_count": 154,
   "id": "f9be83d6-d277-4efd-88d3-72e81dcde074",
   "metadata": {},
   "outputs": [],
   "source": [
    "heat=t2m.loc[:,[c+\"_hdh\" for c in cnt]]/t2m.loc[:,[c+\"_hdh\" for c in cnt]].sum(axis=0)\n",
    "heat.rename({c+\"_hdh\":c for c in cnt},axis=1,inplace=True)\n",
    "    \n",
    "cool=t2m.loc[:,[c+\"_cdh\" for c in cnt]]/t2m.loc[:,[c+\"_cdh\" for c in cnt]].sum(axis=0)\n",
    "cool.rename({c+\"_cdh\":c for c in cnt},axis=1,inplace=True)\n",
    "    \n",
    "    \n",
    "flat=heat*0+(1/heat.shape[0])\n",
    "t2m=t2m.loc[:,cnt]\n",
    "    \n",
    "enduse={\"res_sh\":heat,\"res_sc\":cool,\"res_hw\":flat,\"ser_sh\":heat,\"ser_sc\":cool,\"ser_hw\":flat}\n",
    "\n",
    "l=[]"
   ]
  },
  {
   "cell_type": "code",
   "execution_count": 155,
   "id": "1af6d7be-78dd-4854-9246-fd18103c9b33",
   "metadata": {},
   "outputs": [
    {
     "name": "stdout",
     "output_type": "stream",
     "text": [
      "res_sh\n",
      "res_sc\n",
      "res_hw\n",
      "ser_sh\n",
      "ser_sc\n",
      "ser_hw\n"
     ]
    }
   ],
   "source": [
    "for eu in enduse:\n",
    "    \n",
    "    d=ued_annual.loc[ued_annual.index==eu,:] \\\n",
    "    *heat_db.loc[heat_db[\"EU\"]==eu,\"growth\"].values[0]*heat_db.loc[heat_db[\"EU\"]==eu,\"share\"].values[0]\n",
    "\n",
    "    if \"sh\" or \"hw\" in eu:\n",
    "        \n",
    "        # target temp assumed to be 50 degrees for sh and hw\n",
    "        \n",
    "        cop=ashp_cop(50.-t2m)\n",
    "        \n",
    "    elif \"sc\" in eu:\n",
    "        \n",
    "        # sc is alreadying electricity terms\n",
    "        \n",
    "        cop=1\n",
    "\n",
    "    #if \"hw\" in eu:\n",
    "    #    temp=enduse[eu].copy().mul(d.values,axis=1).div(cop)*1E6\n",
    "        \n",
    "    #else:\n",
    "        \n",
    "    temp=enduse[eu].copy().mul(d.values,axis=1).div(cop)*1E6\n",
    "    \n",
    "    if eu == \"ser_sh\":\n",
    "        \n",
    "        # scaling factors are from the when2heat commercial profiles including day of week effects\n",
    "        \n",
    "        temp.loc[temp.index.dayofweek > 4,:]=temp*0.93\n",
    "        temp.loc[temp.index.dayofweek <= 4,:]=temp*1.03           \n",
    "\n",
    "    out=[]\n",
    "    for date,d in temp.iterrows():\n",
    "        \n",
    "        if eu == \"ser_sh\" and date.dayofweek > 4:\n",
    "            eu=\"ser_sh_we\"\n",
    "        elif eu == \"ser_sh\" and date.dayofweek <= 4:\n",
    "            eu=\"ser_sh_wd\"\n",
    "        elif eu == \"ser_hw\" and date.dayofweek > 4:\n",
    "            eu=\"ser_hw_we\"\n",
    "        elif eu == \"ser_hw\" and date.dayofweek <= 4:\n",
    "            eu=\"ser_hw_wd\"\n",
    "        \n",
    "        prof=np.tile(profiles[eu].values.reshape(-1,1),reps=(1,d.shape[0]))\n",
    "        \n",
    "        if date < pd.Timestamp(date.year,3,25) or date > pd.Timestamp(date.year,10,25):\n",
    "            \n",
    "            # shift usage profile to align with activity - UTC reference frame\n",
    "            \n",
    "            for i,u in enumerate(utc*-1):\n",
    "                prof[:,i]=np.roll(prof[:,i],u)\n",
    "                \n",
    "            out.append(d.values.reshape(1,-1)*prof)\n",
    "        else:\n",
    "            \n",
    "            # shift usage profile to align with daylight savings activity - UTC reference frame\n",
    "  \n",
    "            for i,u in enumerate(utc*-1):\n",
    "                prof[:,i]=np.roll(prof[:,i],u-1)\n",
    "            \n",
    "            out.append(d.values.reshape(1,-1)*prof)\n",
    "\n",
    "    out=pd.DataFrame(np.concatenate(out,axis=0),\n",
    "                         index=pd.date_range(start=t2m.index[0],end=t2m.index[-1]+dt.timedelta(hours=23),freq=\"1h\"),\n",
    "                         columns=temp.columns)\n",
    "    l.append(out)"
   ]
  },
  {
   "cell_type": "code",
   "execution_count": 156,
   "id": "d66dba42-a2ce-4bc1-9302-9543b36fe924",
   "metadata": {},
   "outputs": [],
   "source": [
    "l=pd.concat(l,axis=1)\n",
    "\n",
    "# all this transposing looks ugly but since axis is being deprecated in groupby it is necessary\n",
    "\n",
    "l=l.T.groupby(by=l.T.index).sum().T"
   ]
  },
  {
   "cell_type": "code",
   "execution_count": null,
   "id": "d7c26246-32ed-40d8-8f94-2259199500a4",
   "metadata": {},
   "outputs": [],
   "source": [
    "l.to_csv(snakemake.output[0])"
   ]
  }
 ],
 "metadata": {
  "kernelspec": {
   "display_name": "Python 3 (ipykernel)",
   "language": "python",
   "name": "python3"
  },
  "language_info": {
   "codemirror_mode": {
    "name": "ipython",
    "version": 3
   },
   "file_extension": ".py",
   "mimetype": "text/x-python",
   "name": "python",
   "nbconvert_exporter": "python",
   "pygments_lexer": "ipython3",
   "version": "3.12.3"
  }
 },
 "nbformat": 4,
 "nbformat_minor": 5
}
