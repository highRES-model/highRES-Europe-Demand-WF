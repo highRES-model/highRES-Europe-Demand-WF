{
 "cells": [
  {
   "cell_type": "code",
   "execution_count": null,
   "id": "a6f913ea-e94b-4435-8980-224f97552bfe",
   "metadata": {},
   "outputs": [],
   "source": [
    "import pandas as pd\n",
    "import numpy as np"
   ]
  },
  {
   "cell_type": "code",
   "execution_count": null,
   "id": "89b36aa2-d450-4be8-a09d-01afce66a392",
   "metadata": {},
   "outputs": [],
   "source": [
    "year=int(snakemake.wildcards.year)\n",
    "cnt=snakemake.params.countries\n",
    "act_profile=snakemake.params.act_profile\n",
    "\n",
    "if act_profile==\"EINA 2050 EV\":\n",
    "    seasons=True\n",
    "else:\n",
    "    seasons=False\n",
    "\n",
    "profiles=pd.read_excel(snakemake.input.ev_profiles, engine=\"calamine\",sheet_name=act_profile)\n",
    "utc=pd.read_csv(snakemake.input.time_zones).set_index('ISO2').loc[cnt,\"UTC\"]\n",
    "\n",
    "#dem_shares=pd.read_excel(root+\"ev\\\\country_car_ev_twh.xlsx\", engine=\"calamine\", sheet_name=\"country_car_ev_twh\")\n",
    "country_annual_dem=(pd.pivot_table(\n",
    "                    (pd.read_csv(snakemake.input.ev_annual_dem)\n",
    "                    .query(\"Year==2011 and ISO2.isin(@cnt)\")\n",
    "                    .loc[:,[\"ISO2\",\"TWh\"]]),values=\"TWh\",columns=\"ISO2\")\n",
    "                    .loc[:,cnt])\n",
    "\n",
    "#ev_dem_scen=\"country_car_ev_twh_EINA_\"+modelled_yr"
   ]
  },
  {
   "cell_type": "code",
   "execution_count": null,
   "id": "417c0c7f-343c-486c-8cf0-5ea365dea99c",
   "metadata": {},
   "outputs": [],
   "source": [
    "def add_seasons(d):\n",
    "    \n",
    "    df_seasons=pd.DataFrame((d.index.month%12 + 3)//3,columns=[\"season\"])\n",
    "    \n",
    "    seasons = {\n",
    "              1: 'Winter',\n",
    "              2: 'Spring',\n",
    "              3: 'Summer',\n",
    "              4: 'Autumn'\n",
    "              }\n",
    "\n",
    "    df_seasons['season_name'] = df_seasons['season'].map(seasons)\n",
    "    \n",
    "    return d.set_index([d.index,df_seasons[\"season_name\"]])"
   ]
  },
  {
   "cell_type": "code",
   "execution_count": null,
   "id": "69994a2b-dde9-466d-86dd-17365999bb8b",
   "metadata": {},
   "outputs": [],
   "source": [
    "dates=pd.date_range(start=pd.Timestamp(year,1,1),end=pd.Timestamp(year,12,31),freq=\"D\")\n",
    "    \n",
    "temp=(pd.DataFrame(\n",
    "            np.zeros((dates.shape[0],len(cnt)))+(1/len(dates)),columns=cnt,index=dates)\n",
    "            .mul(country_annual_dem.values*1E6,axis=1))\n",
    "    \n",
    "if seasons: \n",
    "    temp=add_seasons(temp)\n",
    "else:\n",
    "    temp[\"seasons_name\"]=\"ALL_\"\n",
    "    temp=temp.set_index([temp.index,\"seasons_name\"])\n",
    "\n",
    "out=[]\n",
    "\n",
    "for (date,season),d in temp.iterrows():\n",
    "    \n",
    "    if date.dayofweek > 4:\n",
    "        prof=np.tile(profiles[season+\"WE\"].values.reshape(-1,1),reps=(1,d.shape[0]))\n",
    "        \n",
    "    else:\n",
    "        prof=np.tile(profiles[season+\"WD\"].values.reshape(-1,1),reps=(1,d.shape[0]))\n",
    "         \n",
    "    if date < pd.Timestamp(date.year,3,25) or date > pd.Timestamp(date.year,10,25):\n",
    "            \n",
    "        # shift usage profile to align with activity - UTC reference frame\n",
    "            \n",
    "        for i,u in enumerate(utc*-1):\n",
    "            prof[:,i]=np.roll(prof[:,i],u)\n",
    "                \n",
    "        out.append(d.values.reshape(1,-1)*prof)\n",
    "    else:\n",
    "            \n",
    "        # shift usage profile to align with daylight savings activity - UTC reference frame\n",
    "  \n",
    "        for i,u in enumerate(utc*-1):\n",
    "            prof[:,i]=np.roll(prof[:,i],u-1)\n",
    "            \n",
    "        out.append(d.values.reshape(1,-1)*prof)"
   ]
  },
  {
   "cell_type": "code",
   "execution_count": null,
   "id": "6e75c905-18ad-49df-8f73-7058bc158c61",
   "metadata": {},
   "outputs": [],
   "source": [
    "out=pd.DataFrame(np.concatenate(out,axis=0),\n",
    "                     index=pd.date_range(start=temp.index[0][0],end=temp.index[-1][0]+pd.Timedelta(hours=23),freq=\"1h\"),\n",
    "                     columns=temp.columns)"
   ]
  },
  {
   "cell_type": "code",
   "execution_count": null,
   "id": "edec780c-5fe1-454e-b6c8-a90c9d663526",
   "metadata": {},
   "outputs": [],
   "source": [
    "out.to_csv(snakemake.output[0])"
   ]
  }
 ],
 "metadata": {
  "kernelspec": {
   "display_name": "Python 3 (ipykernel)",
   "language": "python",
   "name": "python3"
  },
  "language_info": {
   "codemirror_mode": {
    "name": "ipython",
    "version": 3
   },
   "file_extension": ".py",
   "mimetype": "text/x-python",
   "name": "python",
   "nbconvert_exporter": "python",
   "pygments_lexer": "ipython3",
   "version": "3.12.3"
  }
 },
 "nbformat": 4,
 "nbformat_minor": 5
}
